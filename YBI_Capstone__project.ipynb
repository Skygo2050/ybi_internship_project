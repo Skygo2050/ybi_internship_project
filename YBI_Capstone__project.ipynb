{
  "nbformat": 4,
  "nbformat_minor": 0,
  "metadata": {
    "colab": {
      "name": "YBI_Capstone _project.ipynb",
      "provenance": []
    },
    "kernelspec": {
      "name": "python3",
      "display_name": "Python 3"
    },
    "language_info": {
      "name": "python"
    }
  },
  "cells": [
    {
      "cell_type": "markdown",
      "source": [
        "# Student placement prediction using Machine Learning"
      ],
      "metadata": {
        "id": "eym2uu9anwM3"
      }
    },
    {
      "cell_type": "markdown",
      "source": [
        "#Start"
      ],
      "metadata": {
        "id": "UqxsRL04k3a_"
      }
    },
    {
      "cell_type": "code",
      "source": [
        "import pandas as pd\n",
        "import numpy as np"
      ],
      "metadata": {
        "id": "pZVUVFsHhadg"
      },
      "execution_count": null,
      "outputs": []
    },
    {
      "cell_type": "code",
      "source": [
        "df = pd.read_csv('https://raw.githubusercontent.com/YBI-Foundation/Dataset/main/Placement.csv')"
      ],
      "metadata": {
        "id": "2CznGlndhalH"
      },
      "execution_count": null,
      "outputs": []
    },
    {
      "cell_type": "code",
      "source": [
        "df.head()"
      ],
      "metadata": {
        "colab": {
          "base_uri": "https://localhost:8080/",
          "height": 206
        },
        "id": "LLdr9suzhaob",
        "outputId": "0eb95094-c69f-4caf-8eaf-1bc30955cc11"
      },
      "execution_count": null,
      "outputs": [
        {
          "output_type": "execute_result",
          "data": {
            "text/plain": [
              "   Student_ID  CGPA   IQ  Placement\n",
              "0           1   6.8  123          1\n",
              "1           2   5.9  106          0\n",
              "2           3   5.3  121          0\n",
              "3           4   7.4  132          1\n",
              "4           5   5.8  142          0"
            ],
            "text/html": [
              "\n",
              "  <div id=\"df-e151acfc-93e5-4513-8541-3b12f5c5046f\">\n",
              "    <div class=\"colab-df-container\">\n",
              "      <div>\n",
              "<style scoped>\n",
              "    .dataframe tbody tr th:only-of-type {\n",
              "        vertical-align: middle;\n",
              "    }\n",
              "\n",
              "    .dataframe tbody tr th {\n",
              "        vertical-align: top;\n",
              "    }\n",
              "\n",
              "    .dataframe thead th {\n",
              "        text-align: right;\n",
              "    }\n",
              "</style>\n",
              "<table border=\"1\" class=\"dataframe\">\n",
              "  <thead>\n",
              "    <tr style=\"text-align: right;\">\n",
              "      <th></th>\n",
              "      <th>Student_ID</th>\n",
              "      <th>CGPA</th>\n",
              "      <th>IQ</th>\n",
              "      <th>Placement</th>\n",
              "    </tr>\n",
              "  </thead>\n",
              "  <tbody>\n",
              "    <tr>\n",
              "      <th>0</th>\n",
              "      <td>1</td>\n",
              "      <td>6.8</td>\n",
              "      <td>123</td>\n",
              "      <td>1</td>\n",
              "    </tr>\n",
              "    <tr>\n",
              "      <th>1</th>\n",
              "      <td>2</td>\n",
              "      <td>5.9</td>\n",
              "      <td>106</td>\n",
              "      <td>0</td>\n",
              "    </tr>\n",
              "    <tr>\n",
              "      <th>2</th>\n",
              "      <td>3</td>\n",
              "      <td>5.3</td>\n",
              "      <td>121</td>\n",
              "      <td>0</td>\n",
              "    </tr>\n",
              "    <tr>\n",
              "      <th>3</th>\n",
              "      <td>4</td>\n",
              "      <td>7.4</td>\n",
              "      <td>132</td>\n",
              "      <td>1</td>\n",
              "    </tr>\n",
              "    <tr>\n",
              "      <th>4</th>\n",
              "      <td>5</td>\n",
              "      <td>5.8</td>\n",
              "      <td>142</td>\n",
              "      <td>0</td>\n",
              "    </tr>\n",
              "  </tbody>\n",
              "</table>\n",
              "</div>\n",
              "      <button class=\"colab-df-convert\" onclick=\"convertToInteractive('df-e151acfc-93e5-4513-8541-3b12f5c5046f')\"\n",
              "              title=\"Convert this dataframe to an interactive table.\"\n",
              "              style=\"display:none;\">\n",
              "        \n",
              "  <svg xmlns=\"http://www.w3.org/2000/svg\" height=\"24px\"viewBox=\"0 0 24 24\"\n",
              "       width=\"24px\">\n",
              "    <path d=\"M0 0h24v24H0V0z\" fill=\"none\"/>\n",
              "    <path d=\"M18.56 5.44l.94 2.06.94-2.06 2.06-.94-2.06-.94-.94-2.06-.94 2.06-2.06.94zm-11 1L8.5 8.5l.94-2.06 2.06-.94-2.06-.94L8.5 2.5l-.94 2.06-2.06.94zm10 10l.94 2.06.94-2.06 2.06-.94-2.06-.94-.94-2.06-.94 2.06-2.06.94z\"/><path d=\"M17.41 7.96l-1.37-1.37c-.4-.4-.92-.59-1.43-.59-.52 0-1.04.2-1.43.59L10.3 9.45l-7.72 7.72c-.78.78-.78 2.05 0 2.83L4 21.41c.39.39.9.59 1.41.59.51 0 1.02-.2 1.41-.59l7.78-7.78 2.81-2.81c.8-.78.8-2.07 0-2.86zM5.41 20L4 18.59l7.72-7.72 1.47 1.35L5.41 20z\"/>\n",
              "  </svg>\n",
              "      </button>\n",
              "      \n",
              "  <style>\n",
              "    .colab-df-container {\n",
              "      display:flex;\n",
              "      flex-wrap:wrap;\n",
              "      gap: 12px;\n",
              "    }\n",
              "\n",
              "    .colab-df-convert {\n",
              "      background-color: #E8F0FE;\n",
              "      border: none;\n",
              "      border-radius: 50%;\n",
              "      cursor: pointer;\n",
              "      display: none;\n",
              "      fill: #1967D2;\n",
              "      height: 32px;\n",
              "      padding: 0 0 0 0;\n",
              "      width: 32px;\n",
              "    }\n",
              "\n",
              "    .colab-df-convert:hover {\n",
              "      background-color: #E2EBFA;\n",
              "      box-shadow: 0px 1px 2px rgba(60, 64, 67, 0.3), 0px 1px 3px 1px rgba(60, 64, 67, 0.15);\n",
              "      fill: #174EA6;\n",
              "    }\n",
              "\n",
              "    [theme=dark] .colab-df-convert {\n",
              "      background-color: #3B4455;\n",
              "      fill: #D2E3FC;\n",
              "    }\n",
              "\n",
              "    [theme=dark] .colab-df-convert:hover {\n",
              "      background-color: #434B5C;\n",
              "      box-shadow: 0px 1px 3px 1px rgba(0, 0, 0, 0.15);\n",
              "      filter: drop-shadow(0px 1px 2px rgba(0, 0, 0, 0.3));\n",
              "      fill: #FFFFFF;\n",
              "    }\n",
              "  </style>\n",
              "\n",
              "      <script>\n",
              "        const buttonEl =\n",
              "          document.querySelector('#df-e151acfc-93e5-4513-8541-3b12f5c5046f button.colab-df-convert');\n",
              "        buttonEl.style.display =\n",
              "          google.colab.kernel.accessAllowed ? 'block' : 'none';\n",
              "\n",
              "        async function convertToInteractive(key) {\n",
              "          const element = document.querySelector('#df-e151acfc-93e5-4513-8541-3b12f5c5046f');\n",
              "          const dataTable =\n",
              "            await google.colab.kernel.invokeFunction('convertToInteractive',\n",
              "                                                     [key], {});\n",
              "          if (!dataTable) return;\n",
              "\n",
              "          const docLinkHtml = 'Like what you see? Visit the ' +\n",
              "            '<a target=\"_blank\" href=https://colab.research.google.com/notebooks/data_table.ipynb>data table notebook</a>'\n",
              "            + ' to learn more about interactive tables.';\n",
              "          element.innerHTML = '';\n",
              "          dataTable['output_type'] = 'display_data';\n",
              "          await google.colab.output.renderOutput(dataTable, element);\n",
              "          const docLink = document.createElement('div');\n",
              "          docLink.innerHTML = docLinkHtml;\n",
              "          element.appendChild(docLink);\n",
              "        }\n",
              "      </script>\n",
              "    </div>\n",
              "  </div>\n",
              "  "
            ]
          },
          "metadata": {},
          "execution_count": 3
        }
      ]
    },
    {
      "cell_type": "code",
      "source": [
        "df.info()"
      ],
      "metadata": {
        "colab": {
          "base_uri": "https://localhost:8080/"
        },
        "id": "ZNE7W45UharY",
        "outputId": "bf4fa042-9bae-4f34-e357-238acd9beee0"
      },
      "execution_count": null,
      "outputs": [
        {
          "output_type": "stream",
          "name": "stdout",
          "text": [
            "<class 'pandas.core.frame.DataFrame'>\n",
            "RangeIndex: 100 entries, 0 to 99\n",
            "Data columns (total 4 columns):\n",
            " #   Column      Non-Null Count  Dtype  \n",
            "---  ------      --------------  -----  \n",
            " 0   Student_ID  100 non-null    int64  \n",
            " 1   CGPA        100 non-null    float64\n",
            " 2   IQ          100 non-null    int64  \n",
            " 3   Placement   100 non-null    int64  \n",
            "dtypes: float64(1), int64(3)\n",
            "memory usage: 3.2 KB\n"
          ]
        }
      ]
    },
    {
      "cell_type": "code",
      "source": [
        "df.columns"
      ],
      "metadata": {
        "colab": {
          "base_uri": "https://localhost:8080/"
        },
        "id": "wPJHc2Evha3C",
        "outputId": "c2fc91cb-01f2-46a8-dcad-5823140b61cb"
      },
      "execution_count": null,
      "outputs": [
        {
          "output_type": "execute_result",
          "data": {
            "text/plain": [
              "Index(['Student_ID', 'CGPA', 'IQ', 'Placement'], dtype='object')"
            ]
          },
          "metadata": {},
          "execution_count": 5
        }
      ]
    },
    {
      "cell_type": "code",
      "execution_count": null,
      "metadata": {
        "id": "9vfvB1OjPoCs"
      },
      "outputs": [],
      "source": [
        "x = df[['CGPA', 'IQ']]"
      ]
    },
    {
      "cell_type": "code",
      "source": [
        "x"
      ],
      "metadata": {
        "colab": {
          "base_uri": "https://localhost:8080/",
          "height": 424
        },
        "id": "XhzJh5Bqn4UZ",
        "outputId": "e60d2136-3a56-48e8-b960-bbc05d0eef90"
      },
      "execution_count": null,
      "outputs": [
        {
          "output_type": "execute_result",
          "data": {
            "text/plain": [
              "    CGPA   IQ\n",
              "0    6.8  123\n",
              "1    5.9  106\n",
              "2    5.3  121\n",
              "3    7.4  132\n",
              "4    5.8  142\n",
              "..   ...  ...\n",
              "95   4.3  200\n",
              "96   4.4   42\n",
              "97   6.7  182\n",
              "98   6.3  103\n",
              "99   6.2  113\n",
              "\n",
              "[100 rows x 2 columns]"
            ],
            "text/html": [
              "\n",
              "  <div id=\"df-7db524b6-8660-468a-aa30-e5748b829f41\">\n",
              "    <div class=\"colab-df-container\">\n",
              "      <div>\n",
              "<style scoped>\n",
              "    .dataframe tbody tr th:only-of-type {\n",
              "        vertical-align: middle;\n",
              "    }\n",
              "\n",
              "    .dataframe tbody tr th {\n",
              "        vertical-align: top;\n",
              "    }\n",
              "\n",
              "    .dataframe thead th {\n",
              "        text-align: right;\n",
              "    }\n",
              "</style>\n",
              "<table border=\"1\" class=\"dataframe\">\n",
              "  <thead>\n",
              "    <tr style=\"text-align: right;\">\n",
              "      <th></th>\n",
              "      <th>CGPA</th>\n",
              "      <th>IQ</th>\n",
              "    </tr>\n",
              "  </thead>\n",
              "  <tbody>\n",
              "    <tr>\n",
              "      <th>0</th>\n",
              "      <td>6.8</td>\n",
              "      <td>123</td>\n",
              "    </tr>\n",
              "    <tr>\n",
              "      <th>1</th>\n",
              "      <td>5.9</td>\n",
              "      <td>106</td>\n",
              "    </tr>\n",
              "    <tr>\n",
              "      <th>2</th>\n",
              "      <td>5.3</td>\n",
              "      <td>121</td>\n",
              "    </tr>\n",
              "    <tr>\n",
              "      <th>3</th>\n",
              "      <td>7.4</td>\n",
              "      <td>132</td>\n",
              "    </tr>\n",
              "    <tr>\n",
              "      <th>4</th>\n",
              "      <td>5.8</td>\n",
              "      <td>142</td>\n",
              "    </tr>\n",
              "    <tr>\n",
              "      <th>...</th>\n",
              "      <td>...</td>\n",
              "      <td>...</td>\n",
              "    </tr>\n",
              "    <tr>\n",
              "      <th>95</th>\n",
              "      <td>4.3</td>\n",
              "      <td>200</td>\n",
              "    </tr>\n",
              "    <tr>\n",
              "      <th>96</th>\n",
              "      <td>4.4</td>\n",
              "      <td>42</td>\n",
              "    </tr>\n",
              "    <tr>\n",
              "      <th>97</th>\n",
              "      <td>6.7</td>\n",
              "      <td>182</td>\n",
              "    </tr>\n",
              "    <tr>\n",
              "      <th>98</th>\n",
              "      <td>6.3</td>\n",
              "      <td>103</td>\n",
              "    </tr>\n",
              "    <tr>\n",
              "      <th>99</th>\n",
              "      <td>6.2</td>\n",
              "      <td>113</td>\n",
              "    </tr>\n",
              "  </tbody>\n",
              "</table>\n",
              "<p>100 rows × 2 columns</p>\n",
              "</div>\n",
              "      <button class=\"colab-df-convert\" onclick=\"convertToInteractive('df-7db524b6-8660-468a-aa30-e5748b829f41')\"\n",
              "              title=\"Convert this dataframe to an interactive table.\"\n",
              "              style=\"display:none;\">\n",
              "        \n",
              "  <svg xmlns=\"http://www.w3.org/2000/svg\" height=\"24px\"viewBox=\"0 0 24 24\"\n",
              "       width=\"24px\">\n",
              "    <path d=\"M0 0h24v24H0V0z\" fill=\"none\"/>\n",
              "    <path d=\"M18.56 5.44l.94 2.06.94-2.06 2.06-.94-2.06-.94-.94-2.06-.94 2.06-2.06.94zm-11 1L8.5 8.5l.94-2.06 2.06-.94-2.06-.94L8.5 2.5l-.94 2.06-2.06.94zm10 10l.94 2.06.94-2.06 2.06-.94-2.06-.94-.94-2.06-.94 2.06-2.06.94z\"/><path d=\"M17.41 7.96l-1.37-1.37c-.4-.4-.92-.59-1.43-.59-.52 0-1.04.2-1.43.59L10.3 9.45l-7.72 7.72c-.78.78-.78 2.05 0 2.83L4 21.41c.39.39.9.59 1.41.59.51 0 1.02-.2 1.41-.59l7.78-7.78 2.81-2.81c.8-.78.8-2.07 0-2.86zM5.41 20L4 18.59l7.72-7.72 1.47 1.35L5.41 20z\"/>\n",
              "  </svg>\n",
              "      </button>\n",
              "      \n",
              "  <style>\n",
              "    .colab-df-container {\n",
              "      display:flex;\n",
              "      flex-wrap:wrap;\n",
              "      gap: 12px;\n",
              "    }\n",
              "\n",
              "    .colab-df-convert {\n",
              "      background-color: #E8F0FE;\n",
              "      border: none;\n",
              "      border-radius: 50%;\n",
              "      cursor: pointer;\n",
              "      display: none;\n",
              "      fill: #1967D2;\n",
              "      height: 32px;\n",
              "      padding: 0 0 0 0;\n",
              "      width: 32px;\n",
              "    }\n",
              "\n",
              "    .colab-df-convert:hover {\n",
              "      background-color: #E2EBFA;\n",
              "      box-shadow: 0px 1px 2px rgba(60, 64, 67, 0.3), 0px 1px 3px 1px rgba(60, 64, 67, 0.15);\n",
              "      fill: #174EA6;\n",
              "    }\n",
              "\n",
              "    [theme=dark] .colab-df-convert {\n",
              "      background-color: #3B4455;\n",
              "      fill: #D2E3FC;\n",
              "    }\n",
              "\n",
              "    [theme=dark] .colab-df-convert:hover {\n",
              "      background-color: #434B5C;\n",
              "      box-shadow: 0px 1px 3px 1px rgba(0, 0, 0, 0.15);\n",
              "      filter: drop-shadow(0px 1px 2px rgba(0, 0, 0, 0.3));\n",
              "      fill: #FFFFFF;\n",
              "    }\n",
              "  </style>\n",
              "\n",
              "      <script>\n",
              "        const buttonEl =\n",
              "          document.querySelector('#df-7db524b6-8660-468a-aa30-e5748b829f41 button.colab-df-convert');\n",
              "        buttonEl.style.display =\n",
              "          google.colab.kernel.accessAllowed ? 'block' : 'none';\n",
              "\n",
              "        async function convertToInteractive(key) {\n",
              "          const element = document.querySelector('#df-7db524b6-8660-468a-aa30-e5748b829f41');\n",
              "          const dataTable =\n",
              "            await google.colab.kernel.invokeFunction('convertToInteractive',\n",
              "                                                     [key], {});\n",
              "          if (!dataTable) return;\n",
              "\n",
              "          const docLinkHtml = 'Like what you see? Visit the ' +\n",
              "            '<a target=\"_blank\" href=https://colab.research.google.com/notebooks/data_table.ipynb>data table notebook</a>'\n",
              "            + ' to learn more about interactive tables.';\n",
              "          element.innerHTML = '';\n",
              "          dataTable['output_type'] = 'display_data';\n",
              "          await google.colab.output.renderOutput(dataTable, element);\n",
              "          const docLink = document.createElement('div');\n",
              "          docLink.innerHTML = docLinkHtml;\n",
              "          element.appendChild(docLink);\n",
              "        }\n",
              "      </script>\n",
              "    </div>\n",
              "  </div>\n",
              "  "
            ]
          },
          "metadata": {},
          "execution_count": 7
        }
      ]
    },
    {
      "cell_type": "code",
      "source": [
        "y = df['Placement']"
      ],
      "metadata": {
        "id": "NFoeAKTVn4XO"
      },
      "execution_count": null,
      "outputs": []
    },
    {
      "cell_type": "code",
      "source": [
        "y"
      ],
      "metadata": {
        "colab": {
          "base_uri": "https://localhost:8080/"
        },
        "id": "CQZ0trZQn4ab",
        "outputId": "2429b9dc-9da9-4a09-f984-de232af63f33"
      },
      "execution_count": null,
      "outputs": [
        {
          "output_type": "execute_result",
          "data": {
            "text/plain": [
              "0     1\n",
              "1     0\n",
              "2     0\n",
              "3     1\n",
              "4     0\n",
              "     ..\n",
              "95    0\n",
              "96    0\n",
              "97    1\n",
              "98    1\n",
              "99    1\n",
              "Name: Placement, Length: 100, dtype: int64"
            ]
          },
          "metadata": {},
          "execution_count": 9
        }
      ]
    },
    {
      "cell_type": "markdown",
      "source": [
        "# Standardized x"
      ],
      "metadata": {
        "id": "rbDFohej_lSp"
      }
    },
    {
      "cell_type": "code",
      "source": [
        "from sklearn.preprocessing  import StandardScaler\n",
        "ss = StandardScaler()"
      ],
      "metadata": {
        "id": "bAL-kmgW-UCo"
      },
      "execution_count": null,
      "outputs": []
    },
    {
      "cell_type": "code",
      "source": [
        "x = ss.fit_transform(x)"
      ],
      "metadata": {
        "id": "NWTuHy5b-UJE"
      },
      "execution_count": null,
      "outputs": []
    },
    {
      "cell_type": "code",
      "source": [
        "x"
      ],
      "metadata": {
        "id": "gcjxt0hF-UNK",
        "outputId": "2d02d002-bdf2-4367-f9a3-230a2e4acafb",
        "colab": {
          "base_uri": "https://localhost:8080/"
        }
      },
      "execution_count": null,
      "outputs": [
        {
          "output_type": "execute_result",
          "data": {
            "text/plain": [
              "array([[ 0.71095807, -0.01459341],\n",
              "       [-0.0799718 , -0.44233119],\n",
              "       [-0.60725838, -0.0649155 ],\n",
              "       [ 1.23824465,  0.21185601],\n",
              "       [-0.16785289,  0.46346647],\n",
              "       [ 0.97460136, -1.90167186],\n",
              "       [-0.25573399,  0.48862751],\n",
              "       [-0.87090167, -1.52425617],\n",
              "       [ 0.0957904 ,  0.81572111],\n",
              "       [-0.78302057, -1.44877303],\n",
              "       [ 0.0079093 , -1.977155  ],\n",
              "       [ 0.79883917,  0.36282228],\n",
              "       [-0.51937728,  0.38798333],\n",
              "       [ 0.35943369, -0.19072073],\n",
              "       [ 0.0957904 , -0.51781433],\n",
              "       [-0.78302057,  1.31894203],\n",
              "       [-0.69513948,  2.52667224],\n",
              "       [-2.36488031,  1.49506935],\n",
              "       [-1.74971264, -0.59329747],\n",
              "       [-0.69513948,  0.21185601],\n",
              "       [ 0.53519588, -0.09007654],\n",
              "       [ 0.97460136,  0.68991588],\n",
              "       [-0.95878277, -0.09007654],\n",
              "       [-1.13454496, -0.92039106],\n",
              "       [-1.13454496, -0.0649155 ],\n",
              "       [-0.87090167, -0.81974688],\n",
              "       [ 0.88672027,  1.89764609],\n",
              "       [ 0.0079093 ,  0.01056764],\n",
              "       [-0.69513948, -0.84490793],\n",
              "       [ 0.88672027, -0.29136491],\n",
              "       [ 1.41400685,  0.11121182],\n",
              "       [-1.83759373, -0.36684805],\n",
              "       [ 0.88672027,  0.38798333],\n",
              "       [ 0.0079093 ,  0.63959379],\n",
              "       [-1.04666386,  0.99184843],\n",
              "       [ 0.71095807, -0.84490793],\n",
              "       [-0.25573399,  0.41314438],\n",
              "       [ 1.85341233,  0.63959379],\n",
              "       [ 0.44731478,  0.9163653 ],\n",
              "       [-1.22242606,  0.56411065],\n",
              "       [-0.95878277,  0.2621781 ],\n",
              "       [-0.51937728, -0.24104282],\n",
              "       [ 1.41400685, -0.87006897],\n",
              "       [ 0.71095807,  0.43830542],\n",
              "       [ 1.32612575, -1.57457826],\n",
              "       [ 0.0079093 , -1.44877303],\n",
              "       [-0.60725838, -0.24104282],\n",
              "       [-0.69513948,  0.94152634],\n",
              "       [ 0.53519588,  0.36282228],\n",
              "       [-0.51937728,  0.28733915],\n",
              "       [-2.18911812,  2.75312165],\n",
              "       [-1.04666386,  0.43830542],\n",
              "       [ 0.88672027,  1.29378099],\n",
              "       [ 2.02917452,  1.11765366],\n",
              "       [ 0.35943369,  0.43830542],\n",
              "       [ 1.58976904, -0.24104282],\n",
              "       [ 0.0957904 , -1.47393408],\n",
              "       [ 0.44731478,  0.16153392],\n",
              "       [ 1.76553123, -1.12167943],\n",
              "       [-1.04666386, -0.29136491],\n",
              "       [ 0.79883917,  0.38798333],\n",
              "       [ 1.15036356,  0.33766124],\n",
              "       [ 0.0079093 , -0.54297537],\n",
              "       [ 0.27155259,  0.11121182],\n",
              "       [ 0.88672027, -1.49909512],\n",
              "       [ 1.85341233,  1.06733157],\n",
              "       [ 0.79883917, -0.69394165],\n",
              "       [-0.87090167, -0.14039864],\n",
              "       [-1.74971264, -1.22232362],\n",
              "       [ 2.20493672, -0.09007654],\n",
              "       [ 0.27155259,  0.08605078],\n",
              "       [ 0.0957904 ,  0.21185601],\n",
              "       [ 1.15036356, -0.19072073],\n",
              "       [-0.95878277, -1.57457826],\n",
              "       [ 0.62307698,  0.76539902],\n",
              "       [-1.04666386,  1.14281471],\n",
              "       [-0.95878277,  0.79056007],\n",
              "       [ 1.15036356, -1.85134977],\n",
              "       [ 0.0957904 , -1.07135734],\n",
              "       [ 0.44731478, -0.84490793],\n",
              "       [-0.95878277,  1.82216295],\n",
              "       [-0.51937728, -0.41717014],\n",
              "       [ 0.44731478, -2.17844336],\n",
              "       [ 1.32612575,  0.16153392],\n",
              "       [-0.25573399,  1.14281471],\n",
              "       [-0.16785289,  1.06733157],\n",
              "       [-0.78302057,  0.11121182],\n",
              "       [-0.25573399,  0.21185601],\n",
              "       [-1.39818825,  0.63959379],\n",
              "       [-0.95878277,  0.68991588],\n",
              "       [ 1.15036356, -0.94555211],\n",
              "       [ 1.32612575,  0.8660432 ],\n",
              "       [-0.69513948, -0.341687  ],\n",
              "       [ 0.71095807, -0.29136491],\n",
              "       [-1.13454496, -1.80102767],\n",
              "       [-1.48606935,  1.92280714],\n",
              "       [-1.39818825, -2.05263813],\n",
              "       [ 0.62307698,  1.46990831],\n",
              "       [ 0.27155259, -0.51781433],\n",
              "       [ 0.18367149, -0.26620387]])"
            ]
          },
          "metadata": {},
          "execution_count": 36
        }
      ]
    },
    {
      "cell_type": "markdown",
      "source": [
        "#Train Test Split"
      ],
      "metadata": {
        "id": "lmbxe4r9gWFL"
      }
    },
    {
      "cell_type": "code",
      "source": [
        "from sklearn.model_selection import train_test_split"
      ],
      "metadata": {
        "id": "hSz2ZCgme3YJ"
      },
      "execution_count": null,
      "outputs": []
    },
    {
      "cell_type": "code",
      "source": [
        "x_train , x_test, y_train , y_test = train_test_split(x,y,train_size= 0.7 ,random_state = 12529) # random_state = any number (to fixed  the combination number of random combination )"
      ],
      "metadata": {
        "id": "wFFaKIUIhbTf"
      },
      "execution_count": null,
      "outputs": []
    },
    {
      "cell_type": "markdown",
      "source": [
        "#Training"
      ],
      "metadata": {
        "id": "Qft9S5oAAPU4"
      }
    },
    {
      "cell_type": "code",
      "source": [
        "from sklearn.linear_model import LogisticRegression\n",
        "lr = LogisticRegression()"
      ],
      "metadata": {
        "id": "kUBsxPh4ARZS"
      },
      "execution_count": null,
      "outputs": []
    },
    {
      "cell_type": "code",
      "source": [
        "lr.fit(x_train,y_train)"
      ],
      "metadata": {
        "colab": {
          "base_uri": "https://localhost:8080/"
        },
        "id": "YXNunBypARce",
        "outputId": "0b6c5ba3-3e60-4fa4-f34d-846456386fec"
      },
      "execution_count": null,
      "outputs": [
        {
          "output_type": "execute_result",
          "data": {
            "text/plain": [
              "LogisticRegression()"
            ]
          },
          "metadata": {},
          "execution_count": 40
        }
      ]
    },
    {
      "cell_type": "code",
      "source": [
        "y_predict = lr.predict(x_test)"
      ],
      "metadata": {
        "id": "UqX2UJUWARjY"
      },
      "execution_count": null,
      "outputs": []
    },
    {
      "cell_type": "code",
      "source": [
        "y_predict"
      ],
      "metadata": {
        "id": "S2UrPXBkARmp",
        "outputId": "c772dbb0-ebd2-4a53-cd47-cb29d61f1b88",
        "colab": {
          "base_uri": "https://localhost:8080/"
        }
      },
      "execution_count": null,
      "outputs": [
        {
          "output_type": "execute_result",
          "data": {
            "text/plain": [
              "array([0, 0, 0, 1, 0, 1, 1, 1, 1, 0, 0, 0, 0, 1, 1, 1, 1, 0, 1, 0, 0, 1,\n",
              "       0, 0, 1, 1, 0, 1, 0, 0])"
            ]
          },
          "metadata": {},
          "execution_count": 42
        }
      ]
    },
    {
      "cell_type": "markdown",
      "source": [
        "#Get Probability of Each Predicted Class\n",
        "\n"
      ],
      "metadata": {
        "id": "Rbm4Q1Qq1g9Z"
      }
    },
    {
      "cell_type": "code",
      "source": [
        "lr.predict_proba(x_test)"
      ],
      "metadata": {
        "id": "3ZpiAj6_1hea",
        "outputId": "1934861b-7710-4ae0-9c17-da84f85b6f0b",
        "colab": {
          "base_uri": "https://localhost:8080/"
        }
      },
      "execution_count": null,
      "outputs": [
        {
          "output_type": "execute_result",
          "data": {
            "text/plain": [
              "array([[0.78346924, 0.21653076],\n",
              "       [0.9460934 , 0.0539066 ],\n",
              "       [0.97437897, 0.02562103],\n",
              "       [0.3517858 , 0.6482142 ],\n",
              "       [0.90117101, 0.09882899],\n",
              "       [0.0544566 , 0.9455434 ],\n",
              "       [0.09489566, 0.90510434],\n",
              "       [0.32072309, 0.67927691],\n",
              "       [0.13275445, 0.86724555],\n",
              "       [0.97574048, 0.02425952],\n",
              "       [0.5474196 , 0.4525804 ],\n",
              "       [0.98844619, 0.01155381],\n",
              "       [0.91776568, 0.08223432],\n",
              "       [0.11466783, 0.88533217],\n",
              "       [0.03588197, 0.96411803],\n",
              "       [0.26053689, 0.73946311],\n",
              "       [0.44382938, 0.55617062],\n",
              "       [0.91527992, 0.08472008],\n",
              "       [0.44268389, 0.55731611],\n",
              "       [0.58103687, 0.41896313],\n",
              "       [0.98148382, 0.01851618],\n",
              "       [0.14411611, 0.85588389],\n",
              "       [0.88897715, 0.11102285],\n",
              "       [0.57143947, 0.42856053],\n",
              "       [0.3662391 , 0.6337609 ],\n",
              "       [0.27281906, 0.72718094],\n",
              "       [0.80142585, 0.19857415],\n",
              "       [0.02026657, 0.97973343],\n",
              "       [0.93266463, 0.06733537],\n",
              "       [0.96091188, 0.03908812]])"
            ]
          },
          "metadata": {},
          "execution_count": 43
        }
      ]
    },
    {
      "cell_type": "markdown",
      "source": [
        "# Get modelEvaluted"
      ],
      "metadata": {
        "id": "22IGq112BD2d"
      }
    },
    {
      "cell_type": "code",
      "source": [
        "from sklearn.metrics import confusion_matrix , classification_report "
      ],
      "metadata": {
        "id": "j67wcNURARp6"
      },
      "execution_count": null,
      "outputs": []
    },
    {
      "cell_type": "code",
      "source": [
        "confusion_matrix (y_test ,y_predict)"
      ],
      "metadata": {
        "id": "XijjiD2XARsw"
      },
      "execution_count": null,
      "outputs": []
    },
    {
      "cell_type": "code",
      "source": [
        "print(classification_report(y_test,y_predict))"
      ],
      "metadata": {
        "colab": {
          "base_uri": "https://localhost:8080/"
        },
        "id": "wMoj-BdZARvO",
        "outputId": "beee18d5-3d67-4f5a-98e4-dc4516ab7ca4"
      },
      "execution_count": null,
      "outputs": [
        {
          "output_type": "stream",
          "name": "stdout",
          "text": [
            "              precision    recall  f1-score   support\n",
            "\n",
            "           0       0.69      1.00      0.81        11\n",
            "           1       1.00      0.74      0.85        19\n",
            "\n",
            "    accuracy                           0.83        30\n",
            "   macro avg       0.84      0.87      0.83        30\n",
            "weighted avg       0.89      0.83      0.84        30\n",
            "\n"
          ]
        }
      ]
    },
    {
      "cell_type": "markdown",
      "source": [
        "#visualization"
      ],
      "metadata": {
        "id": "11IfcDJqw-JE"
      }
    },
    {
      "cell_type": "code",
      "source": [
        ""
      ],
      "metadata": {
        "id": "iWVeCZ0Qx5Ru"
      },
      "execution_count": null,
      "outputs": []
    },
    {
      "cell_type": "code",
      "source": [
        "import matplotlib.pyplot as plt\n",
        "plt.scatter(y_test,y_predict)\n",
        "plt.xlabel('Placement Confirmation')\n",
        "plt.ylabel('Predicted Placement')\n",
        "\n",
        "plt.show()\n"
      ],
      "metadata": {
        "id": "uJW_RIOahbm6",
        "colab": {
          "base_uri": "https://localhost:8080/",
          "height": 279
        },
        "outputId": "c649f8b6-540f-4f7f-bd69-3a5bb2c67d5c"
      },
      "execution_count": null,
      "outputs": [
        {
          "output_type": "display_data",
          "data": {
            "text/plain": [
              "<Figure size 432x288 with 1 Axes>"
            ],
            "image/png": "[encoded data removed]"
          },
          "metadata": {
            "needs_background": "light"
          }
        }
      ]
    },
    {
      "cell_type": "markdown",
      "source": [
        "#Get Future Predictictions\n",
        "\n",
        "let select a random sample from existing dataset as new value\n",
        "Steps to follow :\n",
        "\n",
        "1) Extract a random row using sample function\n",
        "\n",
        "2)Seprate x and y\n",
        "\n",
        "3)Predict\n"
      ],
      "metadata": {
        "id": "KJ1YDi4cyYi-"
      }
    },
    {
      "cell_type": "code",
      "source": [
        "df_new = df.sample(1)"
      ],
      "metadata": {
        "id": "NJjO1ZjZwpKs"
      },
      "execution_count": null,
      "outputs": []
    },
    {
      "cell_type": "code",
      "source": [
        "df_new"
      ],
      "metadata": {
        "colab": {
          "base_uri": "https://localhost:8080/",
          "height": 81
        },
        "id": "PqjijYhSwpNw",
        "outputId": "72d6cd3d-1367-46c0-c174-9dbc19de5366"
      },
      "execution_count": null,
      "outputs": [
        {
          "output_type": "execute_result",
          "data": {
            "text/plain": [
              "    Student_ID  CGPA  IQ  Placement\n",
              "94          95   4.7  52          0"
            ],
            "text/html": [
              "\n",
              "  <div id=\"df-5672371a-3e3e-4dac-a247-05c218cff5d8\">\n",
              "    <div class=\"colab-df-container\">\n",
              "      <div>\n",
              "<style scoped>\n",
              "    .dataframe tbody tr th:only-of-type {\n",
              "        vertical-align: middle;\n",
              "    }\n",
              "\n",
              "    .dataframe tbody tr th {\n",
              "        vertical-align: top;\n",
              "    }\n",
              "\n",
              "    .dataframe thead th {\n",
              "        text-align: right;\n",
              "    }\n",
              "</style>\n",
              "<table border=\"1\" class=\"dataframe\">\n",
              "  <thead>\n",
              "    <tr style=\"text-align: right;\">\n",
              "      <th></th>\n",
              "      <th>Student_ID</th>\n",
              "      <th>CGPA</th>\n",
              "      <th>IQ</th>\n",
              "      <th>Placement</th>\n",
              "    </tr>\n",
              "  </thead>\n",
              "  <tbody>\n",
              "    <tr>\n",
              "      <th>94</th>\n",
              "      <td>95</td>\n",
              "      <td>4.7</td>\n",
              "      <td>52</td>\n",
              "      <td>0</td>\n",
              "    </tr>\n",
              "  </tbody>\n",
              "</table>\n",
              "</div>\n",
              "      <button class=\"colab-df-convert\" onclick=\"convertToInteractive('df-5672371a-3e3e-4dac-a247-05c218cff5d8')\"\n",
              "              title=\"Convert this dataframe to an interactive table.\"\n",
              "              style=\"display:none;\">\n",
              "        \n",
              "  <svg xmlns=\"http://www.w3.org/2000/svg\" height=\"24px\"viewBox=\"0 0 24 24\"\n",
              "       width=\"24px\">\n",
              "    <path d=\"M0 0h24v24H0V0z\" fill=\"none\"/>\n",
              "    <path d=\"M18.56 5.44l.94 2.06.94-2.06 2.06-.94-2.06-.94-.94-2.06-.94 2.06-2.06.94zm-11 1L8.5 8.5l.94-2.06 2.06-.94-2.06-.94L8.5 2.5l-.94 2.06-2.06.94zm10 10l.94 2.06.94-2.06 2.06-.94-2.06-.94-.94-2.06-.94 2.06-2.06.94z\"/><path d=\"M17.41 7.96l-1.37-1.37c-.4-.4-.92-.59-1.43-.59-.52 0-1.04.2-1.43.59L10.3 9.45l-7.72 7.72c-.78.78-.78 2.05 0 2.83L4 21.41c.39.39.9.59 1.41.59.51 0 1.02-.2 1.41-.59l7.78-7.78 2.81-2.81c.8-.78.8-2.07 0-2.86zM5.41 20L4 18.59l7.72-7.72 1.47 1.35L5.41 20z\"/>\n",
              "  </svg>\n",
              "      </button>\n",
              "      \n",
              "  <style>\n",
              "    .colab-df-container {\n",
              "      display:flex;\n",
              "      flex-wrap:wrap;\n",
              "      gap: 12px;\n",
              "    }\n",
              "\n",
              "    .colab-df-convert {\n",
              "      background-color: #E8F0FE;\n",
              "      border: none;\n",
              "      border-radius: 50%;\n",
              "      cursor: pointer;\n",
              "      display: none;\n",
              "      fill: #1967D2;\n",
              "      height: 32px;\n",
              "      padding: 0 0 0 0;\n",
              "      width: 32px;\n",
              "    }\n",
              "\n",
              "    .colab-df-convert:hover {\n",
              "      background-color: #E2EBFA;\n",
              "      box-shadow: 0px 1px 2px rgba(60, 64, 67, 0.3), 0px 1px 3px 1px rgba(60, 64, 67, 0.15);\n",
              "      fill: #174EA6;\n",
              "    }\n",
              "\n",
              "    [theme=dark] .colab-df-convert {\n",
              "      background-color: #3B4455;\n",
              "      fill: #D2E3FC;\n",
              "    }\n",
              "\n",
              "    [theme=dark] .colab-df-convert:hover {\n",
              "      background-color: #434B5C;\n",
              "      box-shadow: 0px 1px 3px 1px rgba(0, 0, 0, 0.15);\n",
              "      filter: drop-shadow(0px 1px 2px rgba(0, 0, 0, 0.3));\n",
              "      fill: #FFFFFF;\n",
              "    }\n",
              "  </style>\n",
              "\n",
              "      <script>\n",
              "        const buttonEl =\n",
              "          document.querySelector('#df-5672371a-3e3e-4dac-a247-05c218cff5d8 button.colab-df-convert');\n",
              "        buttonEl.style.display =\n",
              "          google.colab.kernel.accessAllowed ? 'block' : 'none';\n",
              "\n",
              "        async function convertToInteractive(key) {\n",
              "          const element = document.querySelector('#df-5672371a-3e3e-4dac-a247-05c218cff5d8');\n",
              "          const dataTable =\n",
              "            await google.colab.kernel.invokeFunction('convertToInteractive',\n",
              "                                                     [key], {});\n",
              "          if (!dataTable) return;\n",
              "\n",
              "          const docLinkHtml = 'Like what you see? Visit the ' +\n",
              "            '<a target=\"_blank\" href=https://colab.research.google.com/notebooks/data_table.ipynb>data table notebook</a>'\n",
              "            + ' to learn more about interactive tables.';\n",
              "          element.innerHTML = '';\n",
              "          dataTable['output_type'] = 'display_data';\n",
              "          await google.colab.output.renderOutput(dataTable, element);\n",
              "          const docLink = document.createElement('div');\n",
              "          docLink.innerHTML = docLinkHtml;\n",
              "          element.appendChild(docLink);\n",
              "        }\n",
              "      </script>\n",
              "    </div>\n",
              "  </div>\n",
              "  "
            ]
          },
          "metadata": {},
          "execution_count": 49
        }
      ]
    },
    {
      "cell_type": "code",
      "source": [
        "df_new"
      ],
      "metadata": {
        "colab": {
          "base_uri": "https://localhost:8080/",
          "height": 81
        },
        "id": "tK7u_fVnwpQK",
        "outputId": "281f07e8-9240-420b-d297-ef4c492cf9d5"
      },
      "execution_count": null,
      "outputs": [
        {
          "output_type": "execute_result",
          "data": {
            "text/plain": [
              "    Student_ID  CGPA  IQ  Placement\n",
              "94          95   4.7  52          0"
            ],
            "text/html": [
              "\n",
              "  <div id=\"df-7e9089c4-43df-4f83-b60d-d2d7bb473e00\">\n",
              "    <div class=\"colab-df-container\">\n",
              "      <div>\n",
              "<style scoped>\n",
              "    .dataframe tbody tr th:only-of-type {\n",
              "        vertical-align: middle;\n",
              "    }\n",
              "\n",
              "    .dataframe tbody tr th {\n",
              "        vertical-align: top;\n",
              "    }\n",
              "\n",
              "    .dataframe thead th {\n",
              "        text-align: right;\n",
              "    }\n",
              "</style>\n",
              "<table border=\"1\" class=\"dataframe\">\n",
              "  <thead>\n",
              "    <tr style=\"text-align: right;\">\n",
              "      <th></th>\n",
              "      <th>Student_ID</th>\n",
              "      <th>CGPA</th>\n",
              "      <th>IQ</th>\n",
              "      <th>Placement</th>\n",
              "    </tr>\n",
              "  </thead>\n",
              "  <tbody>\n",
              "    <tr>\n",
              "      <th>94</th>\n",
              "      <td>95</td>\n",
              "      <td>4.7</td>\n",
              "      <td>52</td>\n",
              "      <td>0</td>\n",
              "    </tr>\n",
              "  </tbody>\n",
              "</table>\n",
              "</div>\n",
              "      <button class=\"colab-df-convert\" onclick=\"convertToInteractive('df-7e9089c4-43df-4f83-b60d-d2d7bb473e00')\"\n",
              "              title=\"Convert this dataframe to an interactive table.\"\n",
              "              style=\"display:none;\">\n",
              "        \n",
              "  <svg xmlns=\"http://www.w3.org/2000/svg\" height=\"24px\"viewBox=\"0 0 24 24\"\n",
              "       width=\"24px\">\n",
              "    <path d=\"M0 0h24v24H0V0z\" fill=\"none\"/>\n",
              "    <path d=\"M18.56 5.44l.94 2.06.94-2.06 2.06-.94-2.06-.94-.94-2.06-.94 2.06-2.06.94zm-11 1L8.5 8.5l.94-2.06 2.06-.94-2.06-.94L8.5 2.5l-.94 2.06-2.06.94zm10 10l.94 2.06.94-2.06 2.06-.94-2.06-.94-.94-2.06-.94 2.06-2.06.94z\"/><path d=\"M17.41 7.96l-1.37-1.37c-.4-.4-.92-.59-1.43-.59-.52 0-1.04.2-1.43.59L10.3 9.45l-7.72 7.72c-.78.78-.78 2.05 0 2.83L4 21.41c.39.39.9.59 1.41.59.51 0 1.02-.2 1.41-.59l7.78-7.78 2.81-2.81c.8-.78.8-2.07 0-2.86zM5.41 20L4 18.59l7.72-7.72 1.47 1.35L5.41 20z\"/>\n",
              "  </svg>\n",
              "      </button>\n",
              "      \n",
              "  <style>\n",
              "    .colab-df-container {\n",
              "      display:flex;\n",
              "      flex-wrap:wrap;\n",
              "      gap: 12px;\n",
              "    }\n",
              "\n",
              "    .colab-df-convert {\n",
              "      background-color: #E8F0FE;\n",
              "      border: none;\n",
              "      border-radius: 50%;\n",
              "      cursor: pointer;\n",
              "      display: none;\n",
              "      fill: #1967D2;\n",
              "      height: 32px;\n",
              "      padding: 0 0 0 0;\n",
              "      width: 32px;\n",
              "    }\n",
              "\n",
              "    .colab-df-convert:hover {\n",
              "      background-color: #E2EBFA;\n",
              "      box-shadow: 0px 1px 2px rgba(60, 64, 67, 0.3), 0px 1px 3px 1px rgba(60, 64, 67, 0.15);\n",
              "      fill: #174EA6;\n",
              "    }\n",
              "\n",
              "    [theme=dark] .colab-df-convert {\n",
              "      background-color: #3B4455;\n",
              "      fill: #D2E3FC;\n",
              "    }\n",
              "\n",
              "    [theme=dark] .colab-df-convert:hover {\n",
              "      background-color: #434B5C;\n",
              "      box-shadow: 0px 1px 3px 1px rgba(0, 0, 0, 0.15);\n",
              "      filter: drop-shadow(0px 1px 2px rgba(0, 0, 0, 0.3));\n",
              "      fill: #FFFFFF;\n",
              "    }\n",
              "  </style>\n",
              "\n",
              "      <script>\n",
              "        const buttonEl =\n",
              "          document.querySelector('#df-7e9089c4-43df-4f83-b60d-d2d7bb473e00 button.colab-df-convert');\n",
              "        buttonEl.style.display =\n",
              "          google.colab.kernel.accessAllowed ? 'block' : 'none';\n",
              "\n",
              "        async function convertToInteractive(key) {\n",
              "          const element = document.querySelector('#df-7e9089c4-43df-4f83-b60d-d2d7bb473e00');\n",
              "          const dataTable =\n",
              "            await google.colab.kernel.invokeFunction('convertToInteractive',\n",
              "                                                     [key], {});\n",
              "          if (!dataTable) return;\n",
              "\n",
              "          const docLinkHtml = 'Like what you see? Visit the ' +\n",
              "            '<a target=\"_blank\" href=https://colab.research.google.com/notebooks/data_table.ipynb>data table notebook</a>'\n",
              "            + ' to learn more about interactive tables.';\n",
              "          element.innerHTML = '';\n",
              "          dataTable['output_type'] = 'display_data';\n",
              "          await google.colab.output.renderOutput(dataTable, element);\n",
              "          const docLink = document.createElement('div');\n",
              "          docLink.innerHTML = docLinkHtml;\n",
              "          element.appendChild(docLink);\n",
              "        }\n",
              "      </script>\n",
              "    </div>\n",
              "  </div>\n",
              "  "
            ]
          },
          "metadata": {},
          "execution_count": 50
        }
      ]
    },
    {
      "cell_type": "code",
      "source": [
        "x_new = df[['CGPA', 'IQ']]"
      ],
      "metadata": {
        "id": "8L14sUs3wpTF"
      },
      "execution_count": null,
      "outputs": []
    },
    {
      "cell_type": "code",
      "source": [
        "x_new = ss.fit_transform(x_new)"
      ],
      "metadata": {
        "id": "eIp5pulACp2_"
      },
      "execution_count": null,
      "outputs": []
    },
    {
      "cell_type": "code",
      "source": [
        "x_new"
      ],
      "metadata": {
        "colab": {
          "base_uri": "https://localhost:8080/"
        },
        "id": "W98z2FNdC2eE",
        "outputId": "9a8d5ed1-eaf7-4486-e14a-af6d978578b4"
      },
      "execution_count": null,
      "outputs": [
        {
          "output_type": "execute_result",
          "data": {
            "text/plain": [
              "array([[ 0.71095807, -0.01459341],\n",
              "       [-0.0799718 , -0.44233119],\n",
              "       [-0.60725838, -0.0649155 ],\n",
              "       [ 1.23824465,  0.21185601],\n",
              "       [-0.16785289,  0.46346647],\n",
              "       [ 0.97460136, -1.90167186],\n",
              "       [-0.25573399,  0.48862751],\n",
              "       [-0.87090167, -1.52425617],\n",
              "       [ 0.0957904 ,  0.81572111],\n",
              "       [-0.78302057, -1.44877303],\n",
              "       [ 0.0079093 , -1.977155  ],\n",
              "       [ 0.79883917,  0.36282228],\n",
              "       [-0.51937728,  0.38798333],\n",
              "       [ 0.35943369, -0.19072073],\n",
              "       [ 0.0957904 , -0.51781433],\n",
              "       [-0.78302057,  1.31894203],\n",
              "       [-0.69513948,  2.52667224],\n",
              "       [-2.36488031,  1.49506935],\n",
              "       [-1.74971264, -0.59329747],\n",
              "       [-0.69513948,  0.21185601],\n",
              "       [ 0.53519588, -0.09007654],\n",
              "       [ 0.97460136,  0.68991588],\n",
              "       [-0.95878277, -0.09007654],\n",
              "       [-1.13454496, -0.92039106],\n",
              "       [-1.13454496, -0.0649155 ],\n",
              "       [-0.87090167, -0.81974688],\n",
              "       [ 0.88672027,  1.89764609],\n",
              "       [ 0.0079093 ,  0.01056764],\n",
              "       [-0.69513948, -0.84490793],\n",
              "       [ 0.88672027, -0.29136491],\n",
              "       [ 1.41400685,  0.11121182],\n",
              "       [-1.83759373, -0.36684805],\n",
              "       [ 0.88672027,  0.38798333],\n",
              "       [ 0.0079093 ,  0.63959379],\n",
              "       [-1.04666386,  0.99184843],\n",
              "       [ 0.71095807, -0.84490793],\n",
              "       [-0.25573399,  0.41314438],\n",
              "       [ 1.85341233,  0.63959379],\n",
              "       [ 0.44731478,  0.9163653 ],\n",
              "       [-1.22242606,  0.56411065],\n",
              "       [-0.95878277,  0.2621781 ],\n",
              "       [-0.51937728, -0.24104282],\n",
              "       [ 1.41400685, -0.87006897],\n",
              "       [ 0.71095807,  0.43830542],\n",
              "       [ 1.32612575, -1.57457826],\n",
              "       [ 0.0079093 , -1.44877303],\n",
              "       [-0.60725838, -0.24104282],\n",
              "       [-0.69513948,  0.94152634],\n",
              "       [ 0.53519588,  0.36282228],\n",
              "       [-0.51937728,  0.28733915],\n",
              "       [-2.18911812,  2.75312165],\n",
              "       [-1.04666386,  0.43830542],\n",
              "       [ 0.88672027,  1.29378099],\n",
              "       [ 2.02917452,  1.11765366],\n",
              "       [ 0.35943369,  0.43830542],\n",
              "       [ 1.58976904, -0.24104282],\n",
              "       [ 0.0957904 , -1.47393408],\n",
              "       [ 0.44731478,  0.16153392],\n",
              "       [ 1.76553123, -1.12167943],\n",
              "       [-1.04666386, -0.29136491],\n",
              "       [ 0.79883917,  0.38798333],\n",
              "       [ 1.15036356,  0.33766124],\n",
              "       [ 0.0079093 , -0.54297537],\n",
              "       [ 0.27155259,  0.11121182],\n",
              "       [ 0.88672027, -1.49909512],\n",
              "       [ 1.85341233,  1.06733157],\n",
              "       [ 0.79883917, -0.69394165],\n",
              "       [-0.87090167, -0.14039864],\n",
              "       [-1.74971264, -1.22232362],\n",
              "       [ 2.20493672, -0.09007654],\n",
              "       [ 0.27155259,  0.08605078],\n",
              "       [ 0.0957904 ,  0.21185601],\n",
              "       [ 1.15036356, -0.19072073],\n",
              "       [-0.95878277, -1.57457826],\n",
              "       [ 0.62307698,  0.76539902],\n",
              "       [-1.04666386,  1.14281471],\n",
              "       [-0.95878277,  0.79056007],\n",
              "       [ 1.15036356, -1.85134977],\n",
              "       [ 0.0957904 , -1.07135734],\n",
              "       [ 0.44731478, -0.84490793],\n",
              "       [-0.95878277,  1.82216295],\n",
              "       [-0.51937728, -0.41717014],\n",
              "       [ 0.44731478, -2.17844336],\n",
              "       [ 1.32612575,  0.16153392],\n",
              "       [-0.25573399,  1.14281471],\n",
              "       [-0.16785289,  1.06733157],\n",
              "       [-0.78302057,  0.11121182],\n",
              "       [-0.25573399,  0.21185601],\n",
              "       [-1.39818825,  0.63959379],\n",
              "       [-0.95878277,  0.68991588],\n",
              "       [ 1.15036356, -0.94555211],\n",
              "       [ 1.32612575,  0.8660432 ],\n",
              "       [-0.69513948, -0.341687  ],\n",
              "       [ 0.71095807, -0.29136491],\n",
              "       [-1.13454496, -1.80102767],\n",
              "       [-1.48606935,  1.92280714],\n",
              "       [-1.39818825, -2.05263813],\n",
              "       [ 0.62307698,  1.46990831],\n",
              "       [ 0.27155259, -0.51781433],\n",
              "       [ 0.18367149, -0.26620387]])"
            ]
          },
          "metadata": {},
          "execution_count": 53
        }
      ]
    },
    {
      "cell_type": "code",
      "source": [
        "y_pred_new = lr.predict(x_new)"
      ],
      "metadata": {
        "id": "XPyLL6iM705A"
      },
      "execution_count": null,
      "outputs": []
    },
    {
      "cell_type": "code",
      "source": [
        "y_pred_new"
      ],
      "metadata": {
        "colab": {
          "base_uri": "https://localhost:8080/"
        },
        "id": "wPnZh2bF709V",
        "outputId": "9f8503c7-ad06-4b4b-9d16-ce5c422bd689"
      },
      "execution_count": null,
      "outputs": [
        {
          "output_type": "execute_result",
          "data": {
            "text/plain": [
              "array([1, 0, 0, 1, 0, 1, 0, 0, 0, 0, 0, 1, 0, 1, 0, 0, 0, 0, 0, 0, 1, 1,\n",
              "       0, 0, 0, 0, 1, 0, 0, 1, 1, 0, 1, 0, 0, 1, 0, 1, 1, 0, 0, 0, 1, 1,\n",
              "       1, 0, 0, 0, 1, 0, 0, 0, 1, 1, 1, 1, 0, 1, 1, 0, 1, 1, 0, 1, 1, 1,\n",
              "       1, 0, 0, 1, 1, 0, 1, 0, 1, 0, 0, 1, 0, 1, 0, 0, 1, 1, 0, 0, 0, 0,\n",
              "       0, 0, 1, 1, 0, 1, 0, 0, 0, 1, 1, 1])"
            ]
          },
          "metadata": {},
          "execution_count": 55
        }
      ]
    },
    {
      "cell_type": "code",
      "source": [
        "lr.predict_proba(x_new)"
      ],
      "metadata": {
        "id": "-X-4SH_O6lM3"
      },
      "execution_count": null,
      "outputs": []
    }
  ]
}